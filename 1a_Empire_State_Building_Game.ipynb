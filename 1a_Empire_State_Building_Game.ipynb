{
  "cells": [
    {
      "cell_type": "markdown",
      "metadata": {
        "id": "view-in-github",
        "colab_type": "text"
      },
      "source": [
        "<a href=\"https://colab.research.google.com/github/jgumtau/datascience15/blob/main/1a_Empire_State_Building_Game.ipynb\" target=\"_parent\"><img src=\"https://colab.research.google.com/assets/colab-badge.svg\" alt=\"Open In Colab\"/></a>"
      ]
    },
    {
      "cell_type": "markdown",
      "metadata": {
        "id": "Y0gj27yFkxcU"
      },
      "source": [
        "\n",
        "#Climbing The Steps of The Empire State Building Steps: The Game\n",
        "The objective is to create a Dice game logic, which will decide the odds of reaching Step number 60 of the Empire State Building in 100 rolls of the die. We would then simulate this sequence multiple times to calculate the probability of reaching step 60 in 100 tries using the Dice game logic.\n"
      ]
    },
    {
      "cell_type": "code",
      "source": [
        "import random\n",
        "import pandas as pd\n",
        "import numpy as np\n",
        "import matplotlib.pyplot as plt"
      ],
      "metadata": {
        "id": "C3AA3Jd0zkbx"
      },
      "execution_count": null,
      "outputs": []
    },
    {
      "cell_type": "markdown",
      "metadata": {
        "id": "rIAQoik6k7EW"
      },
      "source": [
        "#Rules\n",
        "For each random walk sequence we throw a Die.\n",
        "1. Step 0 at ground level, is the starting point.\n",
        "2. If the roll of the Die returns 1 or 2, climb down one step.\n",
        "3. If the roll of the Die returns 3, 4 or 5, go up one step.\n",
        "4. If the roll of the Die returns 6, throw the Die again and advance the number of steps equal to that throw.\n",
        "5. There is a little chance of being clumsy and falling down the Stairs in which case we start again from 0.\n",
        "6. The value of Steps cannot be negative, the lowest value would always be 0 (which is the starting point)."
      ]
    },
    {
      "cell_type": "markdown",
      "metadata": {
        "id": "LcEXEE_PmsUr"
      },
      "source": [
        "#Some pointers that might help with the code:\n",
        "\n",
        "1. The function random.seed() may be used to make your results reproducible.\n",
        "2. To represent clumsiness of falling down, generate a random number between 0 and 1. If that number is less than .001, set the steps value to Zero as is the rule.\n",
        "3. You'll want to run the Dice game many times to calculate the probability of reaching step 60 in 100 rolls.\n",
        "\n",
        "\n"
      ]
    },
    {
      "cell_type": "markdown",
      "metadata": {
        "id": "aN2fhW-pk-fV"
      },
      "source": [
        "# Your Tasks\n",
        "1. Write code for the above Dice game.\n",
        "2. Estimate the probability of reaching step 60 in 100 rolls.\n",
        "3. Create a plot of your random walk results."
      ]
    },
    {
      "cell_type": "markdown",
      "metadata": {
        "id": "EAZSqOf2noOe"
      },
      "source": [
        "# Solution\n"
      ]
    },
    {
      "cell_type": "code",
      "execution_count": null,
      "metadata": {
        "id": "-ZyeFqCFJLCO"
      },
      "outputs": [],
      "source": [
        "def empire_state_building():\n",
        "  score = [0,-1,-1,1,1,1,2]\n",
        "  steps = 0\n",
        "  floor = 0\n",
        "  for i in range(100):\n",
        "    roll = random.randint(1,6)\n",
        "    # looks up the score index using the roll\n",
        "    if roll == 6:\n",
        "      steps += random.randint(1,6)\n",
        "\n",
        "    elif 1 <= roll <= 5:\n",
        "      steps += score[roll]\n",
        "      steps = max (0, steps)\n",
        "\n",
        "    else:\n",
        "      print(\"Invalid roll\")\n",
        "\n",
        "    if steps > 0:\n",
        "      # generates a random float between zero and one\n",
        "      clumsy = random.random()\n",
        "      if clumsy < 0.01:\n",
        "        steps = 0\n",
        "  # if steps >= 60:\n",
        "  #   print(f'You made it {steps} steps.')\n",
        "  #   print('You win!')\n",
        "\n",
        "  # else:\n",
        "  #   print(f'You made it {steps} steps.')\n",
        "  #   print('You lose!')\n",
        "  return steps"
      ]
    },
    {
      "cell_type": "code",
      "source": [
        "empire_state_building()"
      ],
      "metadata": {
        "id": "L3IXUdrKz5KZ",
        "outputId": "18d568a8-6221-495e-8933-7e6ae76b64a7",
        "colab": {
          "base_uri": "https://localhost:8080/"
        }
      },
      "execution_count": null,
      "outputs": [
        {
          "output_type": "execute_result",
          "data": {
            "text/plain": [
              "11"
            ]
          },
          "metadata": {},
          "execution_count": 111
        }
      ]
    },
    {
      "cell_type": "code",
      "source": [
        "n = 10000\n",
        "plays = np.array([empire_state_building() for i in range(n)])"
      ],
      "metadata": {
        "id": "nDVswHIaz9Xv"
      },
      "execution_count": null,
      "outputs": []
    },
    {
      "cell_type": "code",
      "source": [
        "type(plays)"
      ],
      "metadata": {
        "colab": {
          "base_uri": "https://localhost:8080/"
        },
        "id": "onx-5FXbhlM0",
        "outputId": "f151418e-78a1-49f1-f303-a7ec2491b0f0"
      },
      "execution_count": null,
      "outputs": [
        {
          "output_type": "execute_result",
          "data": {
            "text/plain": [
              "numpy.ndarray"
            ]
          },
          "metadata": {},
          "execution_count": 95
        }
      ]
    },
    {
      "cell_type": "code",
      "source": [
        "plays"
      ],
      "metadata": {
        "colab": {
          "base_uri": "https://localhost:8080/"
        },
        "id": "8dF7zwpfiM3m",
        "outputId": "300ef982-f04f-43eb-e2a3-e90c69d799e1"
      },
      "execution_count": null,
      "outputs": [
        {
          "output_type": "execute_result",
          "data": {
            "text/plain": [
              "array([ 5, 74, 77, ..., 11, 73, 58])"
            ]
          },
          "metadata": {},
          "execution_count": 100
        }
      ]
    },
    {
      "cell_type": "code",
      "source": [
        "(plays>60).mean()"
      ],
      "metadata": {
        "colab": {
          "base_uri": "https://localhost:8080/"
        },
        "id": "NtJDAlfLi7zS",
        "outputId": "bb0734b8-a686-4593-ebe4-fbac88b4da9e"
      },
      "execution_count": null,
      "outputs": [
        {
          "output_type": "execute_result",
          "data": {
            "text/plain": [
              "0.3897"
            ]
          },
          "metadata": {},
          "execution_count": 101
        }
      ]
    },
    {
      "cell_type": "code",
      "source": [
        "# plot the results\n",
        "plt.hist(plays, bins=20)\n",
        "plt.xlabel('Steps')\n",
        "plt.ylabel('Frequency')\n",
        "plt.title('Distribution of Steps')\n",
        "plt.show()"
      ],
      "metadata": {
        "colab": {
          "base_uri": "https://localhost:8080/",
          "height": 472
        },
        "id": "dXSZc7gXjYEa",
        "outputId": "21f0b5e9-db80-4e17-dce8-b215828fadf8"
      },
      "execution_count": null,
      "outputs": [
        {
          "output_type": "display_data",
          "data": {
            "text/plain": [
              "<Figure size 640x480 with 1 Axes>"
            ],
            "image/png": "[encoded data removed]"
          },
          "metadata": {}
        }
      ]
    },
    {
      "cell_type": "code",
      "source": [],
      "metadata": {
        "id": "Jzcvg8lfqz_X"
      },
      "execution_count": null,
      "outputs": []
    }
  ],
  "metadata": {
    "colab": {
      "provenance": [],
      "include_colab_link": true
    },
    "kernelspec": {
      "display_name": "Python 3",
      "name": "python3"
    },
    "language_info": {
      "name": "python"
    }
  },
  "nbformat": 4,
  "nbformat_minor": 0
}