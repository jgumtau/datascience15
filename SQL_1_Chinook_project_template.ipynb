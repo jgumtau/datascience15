{
  "nbformat": 4,
  "nbformat_minor": 0,
  "metadata": {
    "colab": {
      "provenance": [],
      "include_colab_link": true
    },
    "kernelspec": {
      "name": "python3",
      "display_name": "Python 3"
    },
    "language_info": {
      "name": "python"
    }
  },
  "cells": [
    {
      "cell_type": "markdown",
      "metadata": {
        "id": "view-in-github",
        "colab_type": "text"
      },
      "source": [
        "<a href=\"https://colab.research.google.com/github/jgumtau/datascience15/blob/main/SQL_1_Chinook_project_template.ipynb\" target=\"_parent\"><img src=\"https://colab.research.google.com/assets/colab-badge.svg\" alt=\"Open In Colab\"/></a>"
      ]
    },
    {
      "cell_type": "markdown",
      "source": [
        "# Project SQL - Chinook\n"
      ],
      "metadata": {
        "id": "cJG_e1vK2NMI"
      }
    },
    {
      "cell_type": "markdown",
      "source": [
        "## Chinook data set\n",
        "\n",
        "See the lecture on SQLite3 using the Chinook data set to set up the software, database, and tables, as well as for the links to ancillary information about the data set.\n"
      ],
      "metadata": {
        "id": "s6jMcIbW3P5o"
      }
    },
    {
      "cell_type": "code",
      "source": [
        "# Install the sqlite package for Ubuntu\n",
        "# Download the Chinook sqlite database\n"
      ],
      "metadata": {
        "id": "UhFW0uTR6Jfv"
      },
      "execution_count": 1,
      "outputs": []
    },
    {
      "cell_type": "code",
      "source": [
        "# pull in sqlite\n",
        "%%capture\n",
        "%%bash\n",
        "apt-get update\n",
        "apt-get install -y sqlite3"
      ],
      "metadata": {
        "id": "n-vRDI-B8kH4"
      },
      "execution_count": 2,
      "outputs": []
    },
    {
      "cell_type": "markdown",
      "source": [
        "## Come up with questions about your data\n",
        "Have a look at the Entity-Relation ( ER ) diagram to help come up with questions.\n",
        "\n",
        "* What sort of information is in this dataset?\n",
        "* How many records are there?\n",
        "* How many different countries (states, counties, cities, etc) have records in this data set?\n",
        "\n",
        "\n",
        "If you are stuck, here are some ideas for questions:\n",
        "- https://github.com/LucasMcL/15-sql_queries_02-chinook/blob/master/README.md\n",
        "- [Using the R language]( https://rpubs.com/enext777/636199 )\n",
        "- [Search Google]( https://www.google.com/search?q=chinook+database+questions )\n",
        "\n"
      ],
      "metadata": {
        "id": "OA9Mp38s52x2"
      }
    },
    {
      "cell_type": "code",
      "source": [
        "%%bash\n",
        "[ -f chinook.zip ] ||\n",
        "  curl -s -O https://www.sqlitetutorial.net/wp-content/uploads/2018/03/chinook.zip\n",
        "unzip -l chinook.zip\n"
      ],
      "metadata": {
        "id": "SpH0xCtE9zd1",
        "outputId": "0fb3f0f2-17b2-4594-cad8-52ef34d8c288",
        "colab": {
          "base_uri": "https://localhost:8080/"
        }
      },
      "execution_count": 3,
      "outputs": [
        {
          "output_type": "stream",
          "name": "stdout",
          "text": [
            "Archive:  chinook.zip\n",
            "  Length      Date    Time    Name\n",
            "---------  ---------- -----   ----\n",
            "   884736  2015-11-29 10:53   chinook.db\n",
            "---------                     -------\n",
            "   884736                     1 file\n"
          ]
        }
      ]
    },
    {
      "cell_type": "code",
      "execution_count": 4,
      "metadata": {
        "id": "_tB-o0FHctyU",
        "colab": {
          "base_uri": "https://localhost:8080/"
        },
        "outputId": "4c3e8ecf-334b-4d38-d11c-6e9df4f4eec5"
      },
      "outputs": [
        {
          "output_type": "stream",
          "name": "stdout",
          "text": [
            "Archive:  chinook.zip\n",
            "  inflating: chinook.db              \n"
          ]
        }
      ],
      "source": [
        "!unzip -u chinook.zip\n"
      ]
    },
    {
      "cell_type": "code",
      "source": [
        "!ls -la"
      ],
      "metadata": {
        "id": "CDCpV7tZ_ITC",
        "outputId": "86dbfb02-2231-4eb8-8036-3485d37ba930",
        "colab": {
          "base_uri": "https://localhost:8080/"
        }
      },
      "execution_count": 5,
      "outputs": [
        {
          "output_type": "stream",
          "name": "stdout",
          "text": [
            "total 1180\n",
            "drwxr-xr-x 1 root root   4096 Oct 29 02:23 .\n",
            "drwxr-xr-x 1 root root   4096 Oct 29 02:22 ..\n",
            "-rw-r--r-- 1 root root 884736 Nov 29  2015 chinook.db\n",
            "-rw-r--r-- 1 root root 305596 Oct 29 02:23 chinook.zip\n",
            "drwxr-xr-x 4 root root   4096 Oct 25 13:20 .config\n",
            "drwxr-xr-x 1 root root   4096 Oct 25 13:20 sample_data\n"
          ]
        }
      ]
    },
    {
      "cell_type": "markdown",
      "source": [
        "## Use SQL queries to pull specific information\n",
        "\n",
        "Do NOT pull all the data and then filter using DataFrame methods etc. Make sure and use AT LEAST 13 of the 15 SQL options listed below. (You may have to get creative and come up with more questions to ask/answer.)\n"
      ],
      "metadata": {
        "id": "TqvaIfog546s"
      }
    },
    {
      "cell_type": "code",
      "source": [
        "%%script sqlite3 --column --header chinook.db\n",
        ".tables\n"
      ],
      "metadata": {
        "id": "YmICVUnVuBSQ",
        "outputId": "4627091c-964f-4dec-d113-58f78b7235ee",
        "colab": {
          "base_uri": "https://localhost:8080/"
        }
      },
      "execution_count": 6,
      "outputs": [
        {
          "output_type": "stream",
          "name": "stdout",
          "text": [
            "albums          employees       invoices        playlists     \n",
            "artists         genres          media_types     tracks        \n",
            "customers       invoice_items   playlist_track\n"
          ]
        }
      ]
    },
    {
      "cell_type": "code",
      "source": [
        "# get the schema for the entire database to query it\n",
        "%%script sqlite3 --column --header chinook.db\n",
        ".schema"
      ],
      "metadata": {
        "id": "3nZWf3YM_3rJ",
        "outputId": "e1fa8dd7-fb8f-4deb-90ec-84d4aadf288e",
        "colab": {
          "base_uri": "https://localhost:8080/"
        }
      },
      "execution_count": 7,
      "outputs": [
        {
          "output_type": "stream",
          "name": "stdout",
          "text": [
            "CREATE TABLE IF NOT EXISTS \"albums\"\r\n",
            "(\r\n",
            "    [AlbumId] INTEGER PRIMARY KEY AUTOINCREMENT NOT NULL,\r\n",
            "    [Title] NVARCHAR(160)  NOT NULL,\r\n",
            "    [ArtistId] INTEGER  NOT NULL,\r\n",
            "    FOREIGN KEY ([ArtistId]) REFERENCES \"artists\" ([ArtistId]) \r\n",
            "\t\tON DELETE NO ACTION ON UPDATE NO ACTION\r\n",
            ");\n",
            "CREATE TABLE sqlite_sequence(name,seq);\n",
            "CREATE TABLE IF NOT EXISTS \"artists\"\r\n",
            "(\r\n",
            "    [ArtistId] INTEGER PRIMARY KEY AUTOINCREMENT NOT NULL,\r\n",
            "    [Name] NVARCHAR(120)\r\n",
            ");\n",
            "CREATE TABLE IF NOT EXISTS \"customers\"\r\n",
            "(\r\n",
            "    [CustomerId] INTEGER PRIMARY KEY AUTOINCREMENT NOT NULL,\r\n",
            "    [FirstName] NVARCHAR(40)  NOT NULL,\r\n",
            "    [LastName] NVARCHAR(20)  NOT NULL,\r\n",
            "    [Company] NVARCHAR(80),\r\n",
            "    [Address] NVARCHAR(70),\r\n",
            "    [City] NVARCHAR(40),\r\n",
            "    [State] NVARCHAR(40),\r\n",
            "    [Country] NVARCHAR(40),\r\n",
            "    [PostalCode] NVARCHAR(10),\r\n",
            "    [Phone] NVARCHAR(24),\r\n",
            "    [Fax] NVARCHAR(24),\r\n",
            "    [Email] NVARCHAR(60)  NOT NULL,\r\n",
            "    [SupportRepId] INTEGER,\r\n",
            "    FOREIGN KEY ([SupportRepId]) REFERENCES \"employees\" ([EmployeeId]) \r\n",
            "\t\tON DELETE NO ACTION ON UPDATE NO ACTION\r\n",
            ");\n",
            "CREATE TABLE IF NOT EXISTS \"employees\"\r\n",
            "(\r\n",
            "    [EmployeeId] INTEGER PRIMARY KEY AUTOINCREMENT NOT NULL,\r\n",
            "    [LastName] NVARCHAR(20)  NOT NULL,\r\n",
            "    [FirstName] NVARCHAR(20)  NOT NULL,\r\n",
            "    [Title] NVARCHAR(30),\r\n",
            "    [ReportsTo] INTEGER,\r\n",
            "    [BirthDate] DATETIME,\r\n",
            "    [HireDate] DATETIME,\r\n",
            "    [Address] NVARCHAR(70),\r\n",
            "    [City] NVARCHAR(40),\r\n",
            "    [State] NVARCHAR(40),\r\n",
            "    [Country] NVARCHAR(40),\r\n",
            "    [PostalCode] NVARCHAR(10),\r\n",
            "    [Phone] NVARCHAR(24),\r\n",
            "    [Fax] NVARCHAR(24),\r\n",
            "    [Email] NVARCHAR(60),\r\n",
            "    FOREIGN KEY ([ReportsTo]) REFERENCES \"employees\" ([EmployeeId]) \r\n",
            "\t\tON DELETE NO ACTION ON UPDATE NO ACTION\r\n",
            ");\n",
            "CREATE TABLE IF NOT EXISTS \"genres\"\r\n",
            "(\r\n",
            "    [GenreId] INTEGER PRIMARY KEY AUTOINCREMENT NOT NULL,\r\n",
            "    [Name] NVARCHAR(120)\r\n",
            ");\n",
            "CREATE TABLE IF NOT EXISTS \"invoices\"\r\n",
            "(\r\n",
            "    [InvoiceId] INTEGER PRIMARY KEY AUTOINCREMENT NOT NULL,\r\n",
            "    [CustomerId] INTEGER  NOT NULL,\r\n",
            "    [InvoiceDate] DATETIME  NOT NULL,\r\n",
            "    [BillingAddress] NVARCHAR(70),\r\n",
            "    [BillingCity] NVARCHAR(40),\r\n",
            "    [BillingState] NVARCHAR(40),\r\n",
            "    [BillingCountry] NVARCHAR(40),\r\n",
            "    [BillingPostalCode] NVARCHAR(10),\r\n",
            "    [Total] NUMERIC(10,2)  NOT NULL,\r\n",
            "    FOREIGN KEY ([CustomerId]) REFERENCES \"customers\" ([CustomerId]) \r\n",
            "\t\tON DELETE NO ACTION ON UPDATE NO ACTION\r\n",
            ");\n",
            "CREATE TABLE IF NOT EXISTS \"invoice_items\"\r\n",
            "(\r\n",
            "    [InvoiceLineId] INTEGER PRIMARY KEY AUTOINCREMENT NOT NULL,\r\n",
            "    [InvoiceId] INTEGER  NOT NULL,\r\n",
            "    [TrackId] INTEGER  NOT NULL,\r\n",
            "    [UnitPrice] NUMERIC(10,2)  NOT NULL,\r\n",
            "    [Quantity] INTEGER  NOT NULL,\r\n",
            "    FOREIGN KEY ([InvoiceId]) REFERENCES \"invoices\" ([InvoiceId]) \r\n",
            "\t\tON DELETE NO ACTION ON UPDATE NO ACTION,\r\n",
            "    FOREIGN KEY ([TrackId]) REFERENCES \"tracks\" ([TrackId]) \r\n",
            "\t\tON DELETE NO ACTION ON UPDATE NO ACTION\r\n",
            ");\n",
            "CREATE TABLE IF NOT EXISTS \"media_types\"\r\n",
            "(\r\n",
            "    [MediaTypeId] INTEGER PRIMARY KEY AUTOINCREMENT NOT NULL,\r\n",
            "    [Name] NVARCHAR(120)\r\n",
            ");\n",
            "CREATE TABLE IF NOT EXISTS \"playlists\"\r\n",
            "(\r\n",
            "    [PlaylistId] INTEGER PRIMARY KEY AUTOINCREMENT NOT NULL,\r\n",
            "    [Name] NVARCHAR(120)\r\n",
            ");\n",
            "CREATE TABLE IF NOT EXISTS \"playlist_track\"\r\n",
            "(\r\n",
            "    [PlaylistId] INTEGER  NOT NULL,\r\n",
            "    [TrackId] INTEGER  NOT NULL,\r\n",
            "    CONSTRAINT [PK_PlaylistTrack] PRIMARY KEY  ([PlaylistId], [TrackId]),\r\n",
            "    FOREIGN KEY ([PlaylistId]) REFERENCES \"playlists\" ([PlaylistId]) \r\n",
            "\t\tON DELETE NO ACTION ON UPDATE NO ACTION,\r\n",
            "    FOREIGN KEY ([TrackId]) REFERENCES \"tracks\" ([TrackId]) \r\n",
            "\t\tON DELETE NO ACTION ON UPDATE NO ACTION\r\n",
            ");\n",
            "CREATE TABLE IF NOT EXISTS \"tracks\"\r\n",
            "(\r\n",
            "    [TrackId] INTEGER PRIMARY KEY AUTOINCREMENT NOT NULL,\r\n",
            "    [Name] NVARCHAR(200)  NOT NULL,\r\n",
            "    [AlbumId] INTEGER,\r\n",
            "    [MediaTypeId] INTEGER  NOT NULL,\r\n",
            "    [GenreId] INTEGER,\r\n",
            "    [Composer] NVARCHAR(220),\r\n",
            "    [Milliseconds] INTEGER  NOT NULL,\r\n",
            "    [Bytes] INTEGER,\r\n",
            "    [UnitPrice] NUMERIC(10,2)  NOT NULL,\r\n",
            "    FOREIGN KEY ([AlbumId]) REFERENCES \"albums\" ([AlbumId]) \r\n",
            "\t\tON DELETE NO ACTION ON UPDATE NO ACTION,\r\n",
            "    FOREIGN KEY ([GenreId]) REFERENCES \"genres\" ([GenreId]) \r\n",
            "\t\tON DELETE NO ACTION ON UPDATE NO ACTION,\r\n",
            "    FOREIGN KEY ([MediaTypeId]) REFERENCES \"media_types\" ([MediaTypeId]) \r\n",
            "\t\tON DELETE NO ACTION ON UPDATE NO ACTION\r\n",
            ");\n",
            "CREATE INDEX [IFK_AlbumArtistId] ON \"albums\" ([ArtistId]);\n",
            "CREATE INDEX [IFK_CustomerSupportRepId] ON \"customers\" ([SupportRepId]);\n",
            "CREATE INDEX [IFK_EmployeeReportsTo] ON \"employees\" ([ReportsTo]);\n",
            "CREATE INDEX [IFK_InvoiceCustomerId] ON \"invoices\" ([CustomerId]);\n",
            "CREATE INDEX [IFK_InvoiceLineInvoiceId] ON \"invoice_items\" ([InvoiceId]);\n",
            "CREATE INDEX [IFK_InvoiceLineTrackId] ON \"invoice_items\" ([TrackId]);\n",
            "CREATE INDEX [IFK_PlaylistTrackTrackId] ON \"playlist_track\" ([TrackId]);\n",
            "CREATE INDEX [IFK_TrackAlbumId] ON \"tracks\" ([AlbumId]);\n",
            "CREATE INDEX [IFK_TrackGenreId] ON \"tracks\" ([GenreId]);\n",
            "CREATE INDEX [IFK_TrackMediaTypeId] ON \"tracks\" ([MediaTypeId]);\n",
            "CREATE TABLE sqlite_stat1(tbl,idx,stat);\n"
          ]
        }
      ]
    },
    {
      "cell_type": "markdown",
      "source": [
        "### Basic Queries\n"
      ],
      "metadata": {
        "id": "borajWvCtRtl"
      }
    },
    {
      "cell_type": "markdown",
      "source": [
        "#### SELECT (with * and with column names)\n"
      ],
      "metadata": {
        "id": "gIEIK51EthwM"
      }
    },
    {
      "cell_type": "code",
      "source": [
        "%%script sqlite3 --column --header chinook.db\n",
        "SELECT * FROM playlists\n",
        "LIMIT 10;"
      ],
      "metadata": {
        "id": "8slKgFpsuBCh",
        "outputId": "6814f4c4-89f4-48c3-b92e-71949fd691ab",
        "colab": {
          "base_uri": "https://localhost:8080/"
        }
      },
      "execution_count": 8,
      "outputs": [
        {
          "output_type": "stream",
          "name": "stdout",
          "text": [
            "PlaylistId  Name        \n",
            "----------  ------------\n",
            "1           Music       \n",
            "2           Movies      \n",
            "3           TV Shows    \n",
            "4           Audiobooks  \n",
            "5           90’s Music  \n",
            "6           Audiobooks  \n",
            "7           Movies      \n",
            "8           Music       \n",
            "9           Music Videos\n",
            "10          TV Shows    \n"
          ]
        }
      ]
    },
    {
      "cell_type": "markdown",
      "source": [
        "#### WHERE\n"
      ],
      "metadata": {
        "id": "dRvXfTGEtkdQ"
      }
    },
    {
      "cell_type": "code",
      "source": [
        "%%script sqlite3 --column --header chinook.db\n",
        "SELECT * FROM playlists\n",
        "WHERE Name = 'Classical'\n",
        "LIMIT 10;"
      ],
      "metadata": {
        "id": "0oNobfUnt_4Z",
        "outputId": "cc93351a-20b9-4abc-9576-462fdfba7569",
        "colab": {
          "base_uri": "https://localhost:8080/"
        }
      },
      "execution_count": 9,
      "outputs": [
        {
          "output_type": "stream",
          "name": "stdout",
          "text": [
            "PlaylistId  Name     \n",
            "----------  ---------\n",
            "12          Classical\n"
          ]
        }
      ]
    },
    {
      "cell_type": "markdown",
      "source": [
        "#### AND\n"
      ],
      "metadata": {
        "id": "u5y_3d4GtlqN"
      }
    },
    {
      "cell_type": "code",
      "source": [
        "%%script sqlite3 --column --header chinook.db\n",
        "SELECT * FROM genres\n",
        "WHERE Name = 'Classical' AND GenreId = 24\n",
        "LIMIT 10;"
      ],
      "metadata": {
        "id": "H1tgAAFtt_Yy",
        "outputId": "ed54f08f-89a4-407d-9f86-a284544eedea",
        "colab": {
          "base_uri": "https://localhost:8080/"
        }
      },
      "execution_count": 10,
      "outputs": [
        {
          "output_type": "stream",
          "name": "stdout",
          "text": [
            "GenreId  Name     \n",
            "-------  ---------\n",
            "24       Classical\n"
          ]
        }
      ]
    },
    {
      "cell_type": "markdown",
      "source": [
        "#### OR\n"
      ],
      "metadata": {
        "id": "fddyzEAetnzB"
      }
    },
    {
      "cell_type": "code",
      "source": [
        "%%script sqlite3 --column --header chinook.db\n",
        "SELECT * FROM genres\n",
        "WHERE Name = 'Classical' OR GenreId = 2\n",
        "LIMIT 10;"
      ],
      "metadata": {
        "id": "HAg8LDQ3t-yr",
        "outputId": "5127abb7-2144-4ac8-d676-879d64fe818b",
        "colab": {
          "base_uri": "https://localhost:8080/"
        }
      },
      "execution_count": 11,
      "outputs": [
        {
          "output_type": "stream",
          "name": "stdout",
          "text": [
            "GenreId  Name     \n",
            "-------  ---------\n",
            "2        Jazz     \n",
            "24       Classical\n"
          ]
        }
      ]
    },
    {
      "cell_type": "markdown",
      "source": [
        "#### LIKE (with % or _ wildcard)\n"
      ],
      "metadata": {
        "id": "-csoeatGtpRq"
      }
    },
    {
      "cell_type": "code",
      "source": [
        "%%script sqlite3 --column --header chinook.db\n",
        "SELECT * FROM genres\n",
        "WHERE Name LIKE 'C%'\n",
        "LIMIT 10;"
      ],
      "metadata": {
        "id": "UB3EyaRRt9ki",
        "outputId": "2c571297-a370-49d0-a715-77f20f87c7cd",
        "colab": {
          "base_uri": "https://localhost:8080/"
        }
      },
      "execution_count": 12,
      "outputs": [
        {
          "output_type": "stream",
          "name": "stdout",
          "text": [
            "GenreId  Name     \n",
            "-------  ---------\n",
            "22       Comedy   \n",
            "24       Classical\n"
          ]
        }
      ]
    },
    {
      "cell_type": "markdown",
      "source": [
        "#### BETWEEN\n"
      ],
      "metadata": {
        "id": "BV8kQ-9FtqGY"
      }
    },
    {
      "cell_type": "code",
      "source": [
        "%%script sqlite3 --column --header chinook.db\n",
        "SELECT * FROM genres\n",
        "WHERE GenreId BETWEEN 1 AND 3\n",
        "LIMIT 10;"
      ],
      "metadata": {
        "id": "AAMkUyW6t9IR",
        "colab": {
          "base_uri": "https://localhost:8080/"
        },
        "outputId": "fdb87354-2e23-4ea7-ea87-1b1e7feb4380"
      },
      "execution_count": 13,
      "outputs": [
        {
          "output_type": "stream",
          "name": "stdout",
          "text": [
            "GenreId  Name \n",
            "-------  -----\n",
            "1        Rock \n",
            "2        Jazz \n",
            "3        Metal\n"
          ]
        }
      ]
    },
    {
      "cell_type": "markdown",
      "source": [
        "#### LIMIT\n",
        "\n"
      ],
      "metadata": {
        "id": "3BqrCUPBtqpX"
      }
    },
    {
      "cell_type": "code",
      "source": [
        "%%script sqlite3 --column --header chinook.db\n",
        "SELECT * FROM genres\n",
        "WHERE GenreId BETWEEN 1 AND 3\n",
        "LIMIT 3;"
      ],
      "metadata": {
        "outputId": "919fa22e-aada-45f1-dd17-152213976b54",
        "colab": {
          "base_uri": "https://localhost:8080/"
        },
        "id": "0E-YOrFaHG1W"
      },
      "execution_count": 14,
      "outputs": [
        {
          "output_type": "stream",
          "name": "stdout",
          "text": [
            "GenreId  Name \n",
            "-------  -----\n",
            "1        Rock \n",
            "2        Jazz \n",
            "3        Metal\n"
          ]
        }
      ]
    },
    {
      "cell_type": "markdown",
      "source": [
        "### Sorting and Grouping\n"
      ],
      "metadata": {
        "id": "a4DtPW7ytrU7"
      }
    },
    {
      "cell_type": "markdown",
      "source": [
        "#### ORDER BY\n"
      ],
      "metadata": {
        "id": "SneUyw4Xtr-U"
      }
    },
    {
      "cell_type": "code",
      "source": [
        "%%script sqlite3 --column --header chinook.db\n",
        "SELECT * FROM genres\n",
        "ORDER BY Name\n",
        "LIMIT 10;"
      ],
      "metadata": {
        "id": "29jQ-pBFt7uf",
        "outputId": "24361247-a5ca-4f23-c43d-2b334ec2294c",
        "colab": {
          "base_uri": "https://localhost:8080/"
        }
      },
      "execution_count": 15,
      "outputs": [
        {
          "output_type": "stream",
          "name": "stdout",
          "text": [
            "GenreId  Name              \n",
            "-------  ------------------\n",
            "23       Alternative       \n",
            "4        Alternative & Punk\n",
            "6        Blues             \n",
            "11       Bossa Nova        \n",
            "24       Classical         \n",
            "22       Comedy            \n",
            "21       Drama             \n",
            "12       Easy Listening    \n",
            "15       Electronica/Dance \n",
            "13       Heavy Metal       \n"
          ]
        }
      ]
    },
    {
      "cell_type": "markdown",
      "source": [
        "#### DISTINCT\n"
      ],
      "metadata": {
        "id": "Y22yRW5Wtsl1"
      }
    },
    {
      "cell_type": "code",
      "source": [
        "%%script sqlite3 --column --header chinook.db\n",
        "SELECT DISTINCT Name FROM genres\n",
        "ORDER BY Name\n",
        "LIMIT 10;"
      ],
      "metadata": {
        "id": "RGkf7Qh1t7Cm",
        "outputId": "54a68168-6e0b-4ed0-87be-c7874aee1149",
        "colab": {
          "base_uri": "https://localhost:8080/"
        }
      },
      "execution_count": 16,
      "outputs": [
        {
          "output_type": "stream",
          "name": "stdout",
          "text": [
            "Name              \n",
            "------------------\n",
            "Alternative       \n",
            "Alternative & Punk\n",
            "Blues             \n",
            "Bossa Nova        \n",
            "Classical         \n",
            "Comedy            \n",
            "Drama             \n",
            "Easy Listening    \n",
            "Electronica/Dance \n",
            "Heavy Metal       \n"
          ]
        }
      ]
    },
    {
      "cell_type": "markdown",
      "source": [
        "#### GROUP BY\n",
        "\n"
      ],
      "metadata": {
        "id": "Q0mwAOgettPz"
      }
    },
    {
      "cell_type": "code",
      "source": [
        "%%script sqlite3 --column --header chinook.db\n",
        "SELECT Name, COUNT(*) FROM genres\n",
        "GROUP BY Name\n",
        "ORDER BY Name\n",
        "LIMIT 10;"
      ],
      "metadata": {
        "id": "8cv2_l-Lt6Wv",
        "outputId": "6318c775-38bf-449a-bdcc-9f746eb24c45",
        "colab": {
          "base_uri": "https://localhost:8080/"
        }
      },
      "execution_count": 17,
      "outputs": [
        {
          "output_type": "stream",
          "name": "stdout",
          "text": [
            "Name                COUNT(*)\n",
            "------------------  --------\n",
            "Alternative         1       \n",
            "Alternative & Punk  1       \n",
            "Blues               1       \n",
            "Bossa Nova          1       \n",
            "Classical           1       \n",
            "Comedy              1       \n",
            "Drama               1       \n",
            "Easy Listening      1       \n",
            "Electronica/Dance   1       \n",
            "Heavy Metal         1       \n"
          ]
        }
      ]
    },
    {
      "cell_type": "markdown",
      "source": [
        "### Aggregates\n"
      ],
      "metadata": {
        "id": "dJUO6Dh3tt5c"
      }
    },
    {
      "cell_type": "markdown",
      "source": [
        "#### MAX\n"
      ],
      "metadata": {
        "id": "spacz18MtvBo"
      }
    },
    {
      "cell_type": "code",
      "source": [
        "%%script sqlite3 --column --header chinook.db\n",
        "SELECT MAX(Milliseconds) FROM tracks"
      ],
      "metadata": {
        "id": "e8Ke_lJKt2VQ",
        "outputId": "bf88ad1e-e4ea-4cc7-b2fc-6b801b7b6bb7",
        "colab": {
          "base_uri": "https://localhost:8080/"
        }
      },
      "execution_count": 18,
      "outputs": [
        {
          "output_type": "stream",
          "name": "stdout",
          "text": [
            "MAX(Milliseconds)\n",
            "-----------------\n",
            "5286953          \n"
          ]
        }
      ]
    },
    {
      "cell_type": "markdown",
      "source": [
        "#### MIN\n"
      ],
      "metadata": {
        "id": "V0z33BTztvoP"
      }
    },
    {
      "cell_type": "code",
      "source": [
        "%%script sqlite3 --column --header chinook.db\n",
        "SELECT MIN(Milliseconds) FROM tracks"
      ],
      "metadata": {
        "id": "ishdZ9K3t1fh",
        "outputId": "4591dc3c-88d4-4778-cf6a-bbf2ca58346a",
        "colab": {
          "base_uri": "https://localhost:8080/"
        }
      },
      "execution_count": 19,
      "outputs": [
        {
          "output_type": "stream",
          "name": "stdout",
          "text": [
            "MIN(Milliseconds)\n",
            "-----------------\n",
            "1071             \n"
          ]
        }
      ]
    },
    {
      "cell_type": "markdown",
      "source": [
        "#### SUM\n"
      ],
      "metadata": {
        "id": "nLYsB9M8twMf"
      }
    },
    {
      "cell_type": "code",
      "source": [
        "%%script sqlite3 --column --header chinook.db\n",
        "SELECT SUM(Milliseconds) FROM tracks"
      ],
      "metadata": {
        "id": "aoVDwom0t0zN",
        "outputId": "f89c0b55-279e-4298-e200-094e0e14148c",
        "colab": {
          "base_uri": "https://localhost:8080/"
        }
      },
      "execution_count": 20,
      "outputs": [
        {
          "output_type": "stream",
          "name": "stdout",
          "text": [
            "SUM(Milliseconds)\n",
            "-----------------\n",
            "1378778040       \n"
          ]
        }
      ]
    },
    {
      "cell_type": "markdown",
      "source": [
        "#### AVG\n"
      ],
      "metadata": {
        "id": "0yI5K0Z5twwB"
      }
    },
    {
      "cell_type": "code",
      "source": [
        "%%script sqlite3 --column --header chinook.db\n",
        "SELECT AVG(Milliseconds) FROM tracks"
      ],
      "metadata": {
        "id": "HkNbzJ4mtzgD",
        "outputId": "225345d7-d1ce-446d-d91b-626a450a2f7b",
        "colab": {
          "base_uri": "https://localhost:8080/"
        }
      },
      "execution_count": 21,
      "outputs": [
        {
          "output_type": "stream",
          "name": "stdout",
          "text": [
            "AVG(Milliseconds)\n",
            "-----------------\n",
            "393599.212103911 \n"
          ]
        }
      ]
    },
    {
      "cell_type": "markdown",
      "source": [
        "#### COUNT\n",
        "\n"
      ],
      "metadata": {
        "id": "JEkDbYyutxX5"
      }
    },
    {
      "cell_type": "code",
      "source": [
        "%%script sqlite3 --column --header chinook.db\n",
        "SELECT COUNT(*) FROM tracks"
      ],
      "metadata": {
        "id": "NMrvo0jE6LL9",
        "outputId": "65efbbeb-b2c7-41c4-819a-ed4bd4806207",
        "colab": {
          "base_uri": "https://localhost:8080/"
        }
      },
      "execution_count": 22,
      "outputs": [
        {
          "output_type": "stream",
          "name": "stdout",
          "text": [
            "COUNT(*)\n",
            "--------\n",
            "3503    \n"
          ]
        }
      ]
    },
    {
      "cell_type": "markdown",
      "source": [
        "## Make some plots\n",
        "\n",
        "Make some cool plots to go with your data. Write SQL queries to get ONLY the information you need for each plot. (Don't pull ALL the data and then just plot a few columns.)\n",
        "\n"
      ],
      "metadata": {
        "id": "ntL8dHJT57K8"
      }
    },
    {
      "cell_type": "code",
      "source": [
        "import pandas as pd\n",
        "import matplotlib.pyplot as plt\n",
        "import sqlite3"
      ],
      "metadata": {
        "id": "yoQ1T-zlLEtn"
      },
      "execution_count": 23,
      "outputs": []
    },
    {
      "cell_type": "code",
      "source": [
        " # Connect to the database\n",
        "conn = sqlite3.connect('chinook.db')\n",
        "# SQL query to get data for the plot\n",
        "sql = \"\"\"\n",
        "SELECT\n",
        "    p.Name AS PlaylistName,\n",
        "    COUNT(pt.TrackId) AS NumberOfTracks\n",
        "FROM\n",
        "    playlists AS p\n",
        "JOIN\n",
        "    playlist_track AS pt ON p.PlaylistId = pt.PlaylistId\n",
        "GROUP BY\n",
        "    p.PlaylistId;\n",
        "\"\"\"\n",
        "# Read the data directly into a pandas DataFrame\n",
        "df = pd.read_sql_query(sql, conn)\n",
        "# Close the connection\n",
        "conn.close()\n",
        "# Create the plot\n",
        "plt.figure(figsize=(10, 6))\n",
        "plt.bar(df['PlaylistName'], df['NumberOfTracks'])\n",
        "plt.xlabel(\"Playlist Name\")\n",
        "plt.ylabel(\"Number of Tracks\")\n",
        "plt.title(\"Number of Tracks per Playlist\")\n",
        "plt.xticks(rotation=45, ha=\"right\")\n",
        "plt.tight_layout()\n",
        "plt.show()"
      ],
      "metadata": {
        "id": "SZXIuqBX6L50",
        "colab": {
          "base_uri": "https://localhost:8080/",
          "height": 607
        },
        "outputId": "36b841f5-ad13-4f11-f63f-4565efa1abd0"
      },
      "execution_count": 24,
      "outputs": [
        {
          "output_type": "display_data",
          "data": {
            "text/plain": [
              "<Figure size 1000x600 with 1 Axes>"
            ],
            "image/png": "[encoded data removed]"
          },
          "metadata": {}
        }
      ]
    },
    {
      "cell_type": "code",
      "source": [],
      "metadata": {
        "id": "qCYwGS6ORPIs"
      },
      "execution_count": 24,
      "outputs": []
    },
    {
      "cell_type": "code",
      "source": [],
      "metadata": {
        "id": "0Kl9sSzhMG_U"
      },
      "execution_count": 24,
      "outputs": []
    },
    {
      "cell_type": "markdown",
      "source": [
        "## EXTRA CREDIT:\n",
        "* Use a CTE\n",
        "* Use a query that joins two or more tables.\n",
        "* Make a model to see if you can predict something\n",
        "* Come up with something else cool to do with your data\n"
      ],
      "metadata": {
        "id": "H6QrBn3n58mU"
      }
    },
    {
      "cell_type": "code",
      "source": [],
      "metadata": {
        "id": "rEZQv6vn59IP"
      },
      "execution_count": 24,
      "outputs": []
    }
  ]
}