{
  "cells": [
    {
      "cell_type": "markdown",
      "metadata": {
        "id": "view-in-github",
        "colab_type": "text"
      },
      "source": [
        "<a href=\"https://colab.research.google.com/github/jgumtau/datascience15/blob/main/3a_Tools.ipynb\" target=\"_parent\"><img src=\"https://colab.research.google.com/assets/colab-badge.svg\" alt=\"Open In Colab\"/></a>"
      ]
    },
    {
      "cell_type": "code",
      "source": [
        "import random\n",
        "import string\n",
        "import seaborn as sns\n",
        "import matplotlib.pyplot as plt"
      ],
      "metadata": {
        "id": "eg1Q2kJnPCEf"
      },
      "execution_count": null,
      "outputs": []
    },
    {
      "cell_type": "markdown",
      "metadata": {
        "id": "6KOiLj1SWVDq"
      },
      "source": [
        "Complete as many of the following problems as possible. **BONUS**: Make the functions interactive.\n",
        "\n",
        "1. **Password Generator** - Create a function that takes the length of the password and generates a random password of the same length with at least one character, one number and one symbol. Example: ```password(5) -> 'arg5!'```\n",
        "\n",
        "2. **Email Slicer** - Create a function that takes as input an email address and returns a string that contains two items - the person's username and the domain name. Example: ```email_slicer('nevin@cnm.edu') -> ('nevin', 'cnm.edu')```\n",
        "3. **Acronym Creator** - Create a function that takes as input a string and returns an acronym that contains the first letter of each word in that string. Example: ```acronym_creator(\"My name is Nevin\") -> \"MNIN\"```\n",
        "\n",
        "4. **Dice Roller** - Create a function that takes as input a positive integer `n`. This function should simulate the rolling of a `n`-sided die 1000 times. It should create a seaborn countplot of the distribution of die rolls.\n",
        "\n",
        "5. **Max of Three** - Create a function that takes as input three floats and returns the largest of the three. Do this without using the Python max() function! Example: ```max_of_three(5,10,3) -> 10```\n",
        "\n",
        "6. **Age Calculator** - Create a function that takes as input someone's age in years and prints their age in days, hours and minutes. Example: ```age_calculator(33) -> \"You are 12045 days old. You are 289080 hours old. You are 12592800 minutes old.\"```"
      ]
    },
    {
      "cell_type": "code",
      "source": [
        "# password generator\n",
        "def password(length):\n",
        "  \"\"\"\n",
        "  Generates a random password of the given length with at least one character, one number, and one symbol.\n",
        "\n",
        "  Args:\n",
        "  length: The length of the password to generate.\n",
        "\n",
        "  Returns:\n",
        "  A randomly generated password of the given length.\n",
        "  \"\"\"\n",
        "  while True:\n",
        "    password_str = ''.join(random.choice(string.ascii_letters + string.digits + string.punctuation) for i in range(length))\n",
        "    # so this checks if there are any of each\n",
        "    if (any(c.isalpha() for c in password_str) and\n",
        "        any(c.isdigit() for c in password_str) and\n",
        "        any(c in string.punctuation for c in password_str)):\n",
        "     return password_str"
      ],
      "metadata": {
        "id": "6QUI0X_zpKWz"
      },
      "execution_count": null,
      "outputs": []
    },
    {
      "cell_type": "code",
      "source": [
        "password(3)"
      ],
      "metadata": {
        "id": "xNa9nIuvR4Qh",
        "outputId": "f581ed39-e29b-4858-d30a-6d1e42bdfb01",
        "colab": {
          "base_uri": "https://localhost:8080/",
          "height": 35
        }
      },
      "execution_count": null,
      "outputs": [
        {
          "output_type": "execute_result",
          "data": {
            "text/plain": [
              "'#a2'"
            ],
            "application/vnd.google.colaboratory.intrinsic+json": {
              "type": "string"
            }
          },
          "metadata": {},
          "execution_count": 18
        }
      ]
    },
    {
      "cell_type": "code",
      "source": [
        "def email_slicer(email):\n",
        "  \"\"\"\n",
        "  Takes an email address and returns a string containing the username and domain name.\n",
        "\n",
        "  Args:\n",
        "  email: The email address to slice.\n",
        "\n",
        "  Returns:\n",
        "  A string containing the username and domain name.\n",
        "  \"\"\"\n",
        "  username = email.split('@')[0]\n",
        "  domain = email.split('@')[1]\n",
        "  return (username, domain)"
      ],
      "metadata": {
        "id": "bg9W2rbDR60J"
      },
      "execution_count": null,
      "outputs": []
    },
    {
      "cell_type": "code",
      "source": [
        "email_slicer('jgbiology2022@gmail.com')"
      ],
      "metadata": {
        "id": "lnQtvr0aU1s9",
        "outputId": "555c4cc0-d1a1-4170-b8de-8516c9b0de3c",
        "colab": {
          "base_uri": "https://localhost:8080/"
        }
      },
      "execution_count": null,
      "outputs": [
        {
          "output_type": "execute_result",
          "data": {
            "text/plain": [
              "('jgbiology2022', 'gmail.com')"
            ]
          },
          "metadata": {},
          "execution_count": 20
        }
      ]
    },
    {
      "cell_type": "code",
      "source": [
        "# acronym creator\n",
        "def acronym_creator(string):\n",
        "  \"\"\"\n",
        "  Takes the first letter of each word in a string and returns an acronym.\n",
        "\n",
        "  Args:\n",
        "  string: The string to create an acronym from.\n",
        "\n",
        "  Returns:\n",
        "  An acronym created from the first letter of each word in the string.\n",
        "  \"\"\"\n",
        "  string = string.upper()\n",
        "  words = string.split()\n",
        "  acronym = ''\n",
        "  for word in words:\n",
        "    acronym += word[0]\n",
        "  return acronym"
      ],
      "metadata": {
        "id": "a-UqadDFU7Ke"
      },
      "execution_count": null,
      "outputs": []
    },
    {
      "cell_type": "code",
      "source": [
        "acronym_creator('My name is Nevin')"
      ],
      "metadata": {
        "id": "b8BSN0qwVOLC",
        "outputId": "f54dd838-f15e-4eed-f9c8-7149145ea896",
        "colab": {
          "base_uri": "https://localhost:8080/",
          "height": 35
        }
      },
      "execution_count": null,
      "outputs": [
        {
          "output_type": "execute_result",
          "data": {
            "text/plain": [
              "'MNIN'"
            ],
            "application/vnd.google.colaboratory.intrinsic+json": {
              "type": "string"
            }
          },
          "metadata": {},
          "execution_count": 24
        }
      ]
    },
    {
      "cell_type": "code",
      "source": [
        "# dice roller\n",
        "def dice_roller(n):\n",
        "  \"\"\"\n",
        "  Rolls a n-sided die 1000 times and returns a countplot of the distribution of die rolls.\n",
        "\n",
        "  Args:\n",
        "  n: The number of sides on the die.\n",
        "\n",
        "  Returns:\n",
        "  A countplot of the distribution of die rolls.\n",
        "  \"\"\"\n",
        "  number = 10000\n",
        "  rolls = [random.randint(1, n) for i in range(number)]\n",
        "  print(rolls[:20])\n",
        "  sns.countplot(x=rolls)\n",
        "  plt.title('Distribution of die rolls')\n",
        "  plt.xlabel('Roll')\n",
        "  plt.ylabel('Frequency')\n",
        "  plt.ylim(0, (number / 2)) # manually setting the y-axis limit\n",
        "  plt.show()"
      ],
      "metadata": {
        "id": "bL59tqs-VQRh"
      },
      "execution_count": null,
      "outputs": []
    },
    {
      "cell_type": "code",
      "source": [
        "dice_roller(3)"
      ],
      "metadata": {
        "id": "jzVCniNyWlR4",
        "outputId": "74a776d7-501f-47cc-fb77-afed87e9b2f1",
        "colab": {
          "base_uri": "https://localhost:8080/",
          "height": 489
        }
      },
      "execution_count": null,
      "outputs": [
        {
          "output_type": "stream",
          "name": "stdout",
          "text": [
            "[3, 2, 3, 3, 1, 3, 1, 2, 1, 2, 1, 1, 1, 2, 1, 1, 1, 2, 1, 1]\n"
          ]
        },
        {
          "output_type": "display_data",
          "data": {
            "text/plain": [
              "<Figure size 640x480 with 1 Axes>"
            ],
            "image/png": "[encoded data removed]"
          },
          "metadata": {}
        }
      ]
    },
    {
      "cell_type": "code",
      "source": [
        "# max of three without using max()\n",
        "def max_of_three(a, b, c):\n",
        "  \"\"\"\n",
        "  Takes three floats and returns the largest of the three.\n",
        "\n",
        "  Args:\n",
        "  a: The first float.\n",
        "  b: The second float.\n",
        "  c: The third float.\n",
        "\n",
        "  Returns:\n",
        "  The largest of the three floats.\n",
        "  \"\"\"\n",
        "  if a > b and a > c:\n",
        "    return a\n",
        "  elif b > a and b > c:\n",
        "    return b\n",
        "  else:\n",
        "    return c"
      ],
      "metadata": {
        "id": "GtbxFgwwWndM"
      },
      "execution_count": null,
      "outputs": []
    },
    {
      "cell_type": "code",
      "source": [
        "max_of_three(5,10,99)"
      ],
      "metadata": {
        "id": "9WXfF0vHbE9K",
        "outputId": "3068771d-db85-46f9-ee19-09f6042fd712",
        "colab": {
          "base_uri": "https://localhost:8080/"
        }
      },
      "execution_count": null,
      "outputs": [
        {
          "output_type": "execute_result",
          "data": {
            "text/plain": [
              "99"
            ]
          },
          "metadata": {},
          "execution_count": 52
        }
      ]
    },
    {
      "cell_type": "code",
      "source": [
        "# age calculator\n",
        "def age_calculator(age):\n",
        "  \"\"\"\n",
        "  Takes an age in years and prints the age in days, hours, and minutes.\n",
        "\n",
        "  Args:\n",
        "  age: The age in years.\n",
        "\n",
        "  Returns:\n",
        "  a sentence containing the age in days, hours, and minutes.\n",
        "  \"\"\"\n",
        "  days = age * 365\n",
        "  hours = days * 24\n",
        "  minutes = hours * 60\n",
        "  print(f'You are {days} days old. You are {hours} hours old. You are {minutes} minutes old.')"
      ],
      "metadata": {
        "id": "cW-2ThMmbGYX"
      },
      "execution_count": null,
      "outputs": []
    },
    {
      "cell_type": "code",
      "source": [
        "age_calculator(21)"
      ],
      "metadata": {
        "id": "KOw21P76bXBO",
        "outputId": "22aed81f-da2f-4be9-e439-aedf47b6e21d",
        "colab": {
          "base_uri": "https://localhost:8080/"
        }
      },
      "execution_count": null,
      "outputs": [
        {
          "output_type": "stream",
          "name": "stdout",
          "text": [
            "You are 7665 days old. You are 183960 hours old. You are 11037600 minutes old.\n"
          ]
        }
      ]
    },
    {
      "cell_type": "code",
      "source": [],
      "metadata": {
        "id": "sdAw6db3baK_"
      },
      "execution_count": null,
      "outputs": []
    }
  ],
  "metadata": {
    "colab": {
      "provenance": [],
      "include_colab_link": true
    },
    "kernelspec": {
      "display_name": "Python 3",
      "name": "python3"
    },
    "language_info": {
      "name": "python"
    }
  },
  "nbformat": 4,
  "nbformat_minor": 0
}