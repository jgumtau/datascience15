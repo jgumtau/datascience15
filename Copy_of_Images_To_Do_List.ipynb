{
  "nbformat": 4,
  "nbformat_minor": 0,
  "metadata": {
    "colab": {
      "provenance": [],
      "include_colab_link": true
    },
    "kernelspec": {
      "name": "python3",
      "display_name": "Python 3"
    },
    "language_info": {
      "name": "python"
    }
  },
  "cells": [
    {
      "cell_type": "markdown",
      "metadata": {
        "id": "view-in-github",
        "colab_type": "text"
      },
      "source": [
        "<a href=\"https://colab.research.google.com/github/jr-gumtau/datascience15/blob/main/Copy_of_Images_To_Do_List.ipynb\" target=\"_parent\"><img src=\"https://colab.research.google.com/assets/colab-badge.svg\" alt=\"Open In Colab\"/></a>"
      ]
    },
    {
      "cell_type": "code",
      "source": [
        "# work with an array, not a list, so you won't eat up your gpus. and it'll be faster."
      ],
      "metadata": {
        "id": "QNmpan7YjNEu"
      },
      "execution_count": 2,
      "outputs": []
    },
    {
      "cell_type": "markdown",
      "source": [
        "# Images – To Do List\n"
      ],
      "metadata": {
        "id": "Z7IxnO3ZGqlL"
      }
    },
    {
      "cell_type": "markdown",
      "source": [
        "\n",
        "Prior to starting this problem, be sure to enable the GPU runtime processing in your Jupyter notebook.\n",
        "\n"
      ],
      "metadata": {
        "id": "09CQVfHpXRMB"
      }
    },
    {
      "cell_type": "markdown",
      "source": [
        "## Problem Definition\n"
      ],
      "metadata": {
        "id": "f5PuSqe-H8u5"
      }
    },
    {
      "cell_type": "markdown",
      "source": [
        "\n",
        "* Write a concise problem definition for the project. Put it in a text field at the top of your Jupyter notebook.\n",
        "\n",
        "* Load necessary packages.\n",
        "\n"
      ],
      "metadata": {
        "id": "nCOQv4YvXPBE"
      }
    },
    {
      "cell_type": "markdown",
      "source": [
        "The goal is to build a neural network that can predict whether the animal within the image is a cat or a dog. This is an unsupervised classification problem."
      ],
      "metadata": {
        "id": "wDJBvFju4BFi"
      }
    },
    {
      "cell_type": "code",
      "source": [
        "import pandas as pd\n",
        "import numpy as np\n",
        "import matplotlib.pyplot as plt\n",
        "import random\n",
        "\n",
        "import tensorflow as tf\n",
        "from tensorflow import keras\n",
        "from tensorflow.keras import layers\n",
        "from tensorflow.keras.models import Sequential\n",
        "from tensorflow.keras.layers import Dense, Conv2D, MaxPooling2D, Flatten, Dropout\n",
        "from tensorflow.keras.preprocessing.image import ImageDataGenerator\n",
        "from tensorflow.keras.callbacks import EarlyStopping\n",
        "from tensorflow.keras.optimizers import Adam\n",
        "from tensorflow.keras.preprocessing import image\n",
        "\n",
        "from IPython.display import Image\n",
        "from IPython.core.display import HTML"
      ],
      "metadata": {
        "id": "ZTGmmJGuJOMW"
      },
      "execution_count": 3,
      "outputs": []
    },
    {
      "cell_type": "markdown",
      "source": [
        "## Data Collection\n"
      ],
      "metadata": {
        "id": "Ll3rUMEKH_b9"
      }
    },
    {
      "cell_type": "markdown",
      "source": [
        "\n",
        "* Load pickled data from X.pickle and y.pickle from the AWS S3 bucket.\n",
        "\n"
      ],
      "metadata": {
        "id": "DaGpv4TcXNpo"
      }
    },
    {
      "cell_type": "code",
      "source": [
        "urlx = 'https://ddc-datascience.s3.amazonaws.com/Projects/Project.6-Images/Data/X.pickle'"
      ],
      "metadata": {
        "id": "8E3DqDT21wM1"
      },
      "execution_count": 4,
      "outputs": []
    },
    {
      "cell_type": "code",
      "source": [
        "urly = 'https://ddc-datascience.s3.amazonaws.com/Projects/Project.6-Images/Data/y.pickle'"
      ],
      "metadata": {
        "id": "p9yLvSsQg2_S"
      },
      "execution_count": 5,
      "outputs": []
    },
    {
      "cell_type": "code",
      "source": [
        "test = 'https://ddc-datascience.s3.amazonaws.com/Projects/Project.6-Images/Data/dog.jpg'"
      ],
      "metadata": {
        "id": "XzjxsA32g9AY"
      },
      "execution_count": 6,
      "outputs": []
    },
    {
      "cell_type": "code",
      "source": [
        "X = pd.read_pickle(urlx)\n",
        "y = pd.read_pickle(urly)"
      ],
      "metadata": {
        "id": "PDiDC9SIGqHG"
      },
      "execution_count": 7,
      "outputs": []
    },
    {
      "cell_type": "code",
      "source": [
        "type(X)"
      ],
      "metadata": {
        "colab": {
          "base_uri": "https://localhost:8080/"
        },
        "id": "a9EO-4yNHvYe",
        "outputId": "0a681308-51f5-4b8e-c4f3-657082252481"
      },
      "execution_count": 8,
      "outputs": [
        {
          "output_type": "execute_result",
          "data": {
            "text/plain": [
              "numpy.ndarray"
            ]
          },
          "metadata": {},
          "execution_count": 8
        }
      ]
    },
    {
      "cell_type": "code",
      "source": [
        "# transform y into an array\n",
        "y = np.array(y)"
      ],
      "metadata": {
        "id": "ZPabY_e_sO9L"
      },
      "execution_count": 9,
      "outputs": []
    },
    {
      "cell_type": "code",
      "source": [
        "type(y)"
      ],
      "metadata": {
        "colab": {
          "base_uri": "https://localhost:8080/"
        },
        "id": "fF8kgzxQstkC",
        "outputId": "d5afcc41-acd2-4512-9b78-7e00874fb524"
      },
      "execution_count": 10,
      "outputs": [
        {
          "output_type": "execute_result",
          "data": {
            "text/plain": [
              "numpy.ndarray"
            ]
          },
          "metadata": {},
          "execution_count": 10
        }
      ]
    },
    {
      "cell_type": "code",
      "source": [
        "# shrink the array to 1k\n",
        "X = X[:1000]\n",
        "y = y[:1000]"
      ],
      "metadata": {
        "id": "rVvtRmEzx3XA"
      },
      "execution_count": 11,
      "outputs": []
    },
    {
      "cell_type": "code",
      "source": [
        "X"
      ],
      "metadata": {
        "colab": {
          "base_uri": "https://localhost:8080/"
        },
        "id": "YU6YO4X0x_fQ",
        "outputId": "5e3a3d9a-9579-4cef-b155-7b560e3a36b1"
      },
      "execution_count": 12,
      "outputs": [
        {
          "output_type": "execute_result",
          "data": {
            "text/plain": [
              "array([[[[ 95],\n",
              "         [ 94],\n",
              "         [ 98],\n",
              "         ...,\n",
              "         [170],\n",
              "         [172],\n",
              "         [171]],\n",
              "\n",
              "        [[ 92],\n",
              "         [ 91],\n",
              "         [ 95],\n",
              "         ...,\n",
              "         [170],\n",
              "         [172],\n",
              "         [171]],\n",
              "\n",
              "        [[ 89],\n",
              "         [ 91],\n",
              "         [ 92],\n",
              "         ...,\n",
              "         [165],\n",
              "         [169],\n",
              "         [169]],\n",
              "\n",
              "        ...,\n",
              "\n",
              "        [[ 84],\n",
              "         [ 76],\n",
              "         [ 73],\n",
              "         ...,\n",
              "         [135],\n",
              "         [164],\n",
              "         [154]],\n",
              "\n",
              "        [[ 82],\n",
              "         [ 79],\n",
              "         [ 71],\n",
              "         ...,\n",
              "         [142],\n",
              "         [134],\n",
              "         [153]],\n",
              "\n",
              "        [[ 80],\n",
              "         [ 85],\n",
              "         [ 85],\n",
              "         ...,\n",
              "         [151],\n",
              "         [146],\n",
              "         [138]]],\n",
              "\n",
              "\n",
              "       [[[171],\n",
              "         [154],\n",
              "         [139],\n",
              "         ...,\n",
              "         [185],\n",
              "         [187],\n",
              "         [188]],\n",
              "\n",
              "        [[146],\n",
              "         [140],\n",
              "         [129],\n",
              "         ...,\n",
              "         [187],\n",
              "         [187],\n",
              "         [188]],\n",
              "\n",
              "        [[128],\n",
              "         [132],\n",
              "         [128],\n",
              "         ...,\n",
              "         [186],\n",
              "         [187],\n",
              "         [188]],\n",
              "\n",
              "        ...,\n",
              "\n",
              "        [[167],\n",
              "         [168],\n",
              "         [162],\n",
              "         ...,\n",
              "         [191],\n",
              "         [193],\n",
              "         [182]],\n",
              "\n",
              "        [[166],\n",
              "         [164],\n",
              "         [164],\n",
              "         ...,\n",
              "         [197],\n",
              "         [179],\n",
              "         [196]],\n",
              "\n",
              "        [[176],\n",
              "         [168],\n",
              "         [173],\n",
              "         ...,\n",
              "         [197],\n",
              "         [184],\n",
              "         [198]]],\n",
              "\n",
              "\n",
              "       [[[121],\n",
              "         [116],\n",
              "         [130],\n",
              "         ...,\n",
              "         [ 99],\n",
              "         [126],\n",
              "         [ 61]],\n",
              "\n",
              "        [[122],\n",
              "         [124],\n",
              "         [126],\n",
              "         ...,\n",
              "         [121],\n",
              "         [ 75],\n",
              "         [ 33]],\n",
              "\n",
              "        [[128],\n",
              "         [127],\n",
              "         [127],\n",
              "         ...,\n",
              "         [ 99],\n",
              "         [ 99],\n",
              "         [ 88]],\n",
              "\n",
              "        ...,\n",
              "\n",
              "        [[191],\n",
              "         [192],\n",
              "         [192],\n",
              "         ...,\n",
              "         [179],\n",
              "         [181],\n",
              "         [175]],\n",
              "\n",
              "        [[196],\n",
              "         [188],\n",
              "         [196],\n",
              "         ...,\n",
              "         [178],\n",
              "         [172],\n",
              "         [175]],\n",
              "\n",
              "        [[197],\n",
              "         [191],\n",
              "         [204],\n",
              "         ...,\n",
              "         [189],\n",
              "         [182],\n",
              "         [176]]],\n",
              "\n",
              "\n",
              "       ...,\n",
              "\n",
              "\n",
              "       [[[126],\n",
              "         [129],\n",
              "         [132],\n",
              "         ...,\n",
              "         [121],\n",
              "         [127],\n",
              "         [127]],\n",
              "\n",
              "        [[129],\n",
              "         [130],\n",
              "         [133],\n",
              "         ...,\n",
              "         [126],\n",
              "         [123],\n",
              "         [130]],\n",
              "\n",
              "        [[128],\n",
              "         [131],\n",
              "         [133],\n",
              "         ...,\n",
              "         [123],\n",
              "         [126],\n",
              "         [131]],\n",
              "\n",
              "        ...,\n",
              "\n",
              "        [[110],\n",
              "         [111],\n",
              "         [115],\n",
              "         ...,\n",
              "         [114],\n",
              "         [118],\n",
              "         [111]],\n",
              "\n",
              "        [[108],\n",
              "         [109],\n",
              "         [110],\n",
              "         ...,\n",
              "         [116],\n",
              "         [118],\n",
              "         [115]],\n",
              "\n",
              "        [[111],\n",
              "         [110],\n",
              "         [120],\n",
              "         ...,\n",
              "         [121],\n",
              "         [115],\n",
              "         [110]]],\n",
              "\n",
              "\n",
              "       [[[ 51],\n",
              "         [ 54],\n",
              "         [ 54],\n",
              "         ...,\n",
              "         [118],\n",
              "         [115],\n",
              "         [115]],\n",
              "\n",
              "        [[ 44],\n",
              "         [ 43],\n",
              "         [ 41],\n",
              "         ...,\n",
              "         [119],\n",
              "         [121],\n",
              "         [120]],\n",
              "\n",
              "        [[ 32],\n",
              "         [ 33],\n",
              "         [ 30],\n",
              "         ...,\n",
              "         [129],\n",
              "         [128],\n",
              "         [127]],\n",
              "\n",
              "        ...,\n",
              "\n",
              "        [[ 55],\n",
              "         [ 45],\n",
              "         [ 55],\n",
              "         ...,\n",
              "         [ 51],\n",
              "         [ 47],\n",
              "         [ 45]],\n",
              "\n",
              "        [[ 52],\n",
              "         [ 55],\n",
              "         [ 48],\n",
              "         ...,\n",
              "         [ 54],\n",
              "         [ 46],\n",
              "         [ 51]],\n",
              "\n",
              "        [[ 49],\n",
              "         [ 57],\n",
              "         [ 49],\n",
              "         ...,\n",
              "         [ 53],\n",
              "         [ 53],\n",
              "         [ 48]]],\n",
              "\n",
              "\n",
              "       [[[ 61],\n",
              "         [ 82],\n",
              "         [ 94],\n",
              "         ...,\n",
              "         [ 70],\n",
              "         [ 71],\n",
              "         [ 66]],\n",
              "\n",
              "        [[ 62],\n",
              "         [ 80],\n",
              "         [ 89],\n",
              "         ...,\n",
              "         [ 70],\n",
              "         [ 71],\n",
              "         [ 68]],\n",
              "\n",
              "        [[ 60],\n",
              "         [ 83],\n",
              "         [ 88],\n",
              "         ...,\n",
              "         [ 70],\n",
              "         [ 71],\n",
              "         [ 68]],\n",
              "\n",
              "        ...,\n",
              "\n",
              "        [[119],\n",
              "         [117],\n",
              "         [118],\n",
              "         ...,\n",
              "         [192],\n",
              "         [175],\n",
              "         [190]],\n",
              "\n",
              "        [[110],\n",
              "         [108],\n",
              "         [115],\n",
              "         ...,\n",
              "         [205],\n",
              "         [179],\n",
              "         [178]],\n",
              "\n",
              "        [[111],\n",
              "         [113],\n",
              "         [117],\n",
              "         ...,\n",
              "         [164],\n",
              "         [178],\n",
              "         [175]]]], dtype=uint8)"
            ]
          },
          "metadata": {},
          "execution_count": 12
        }
      ]
    },
    {
      "cell_type": "code",
      "source": [
        "x_train = X[:800]\n",
        "x_test = X[800:]\n",
        "y_train = y[:800]\n",
        "y_test = y[800:]"
      ],
      "metadata": {
        "id": "m1aUdC1Ugv3p"
      },
      "execution_count": 13,
      "outputs": []
    },
    {
      "cell_type": "code",
      "source": [
        "# view an image in the dataset\n",
        "y_train[1]"
      ],
      "metadata": {
        "colab": {
          "base_uri": "https://localhost:8080/"
        },
        "id": "sxd55sXGg4sT",
        "outputId": "9ab4838a-c526-479d-c242-89bb5f6fbf35"
      },
      "execution_count": 14,
      "outputs": [
        {
          "output_type": "execute_result",
          "data": {
            "text/plain": [
              "1"
            ]
          },
          "metadata": {},
          "execution_count": 14
        }
      ]
    },
    {
      "cell_type": "code",
      "source": [
        "plt.imshow(x_train[1])"
      ],
      "metadata": {
        "colab": {
          "base_uri": "https://localhost:8080/",
          "height": 450
        },
        "id": "lTPiaSg9hfkj",
        "outputId": "c7f56c7a-3874-439e-bbc8-def44747b759"
      },
      "execution_count": 15,
      "outputs": [
        {
          "output_type": "execute_result",
          "data": {
            "text/plain": [
              "<matplotlib.image.AxesImage at 0x7f3c00cee560>"
            ]
          },
          "metadata": {},
          "execution_count": 15
        },
        {
          "output_type": "display_data",
          "data": {
            "text/plain": [
              "<Figure size 640x480 with 1 Axes>"
            ],
            "image/png": "[encoded data removed]"
          },
          "metadata": {}
        }
      ]
    },
    {
      "cell_type": "code",
      "source": [
        "# make a function that shows the image and the index\n",
        "def show_image(index):\n",
        "    plt.imshow(x_train[index])\n",
        "    plt.title(y_train[index])\n",
        "    plt.show()"
      ],
      "metadata": {
        "id": "hi7NxQqUhvw4"
      },
      "execution_count": 16,
      "outputs": []
    },
    {
      "cell_type": "code",
      "source": [
        "show_image(0)"
      ],
      "metadata": {
        "colab": {
          "base_uri": "https://localhost:8080/",
          "height": 452
        },
        "id": "XMX8XUHGiGQZ",
        "outputId": "502cce82-16f5-4b49-8a2d-67242cc16f2f"
      },
      "execution_count": 17,
      "outputs": [
        {
          "output_type": "display_data",
          "data": {
            "text/plain": [
              "<Figure size 640x480 with 1 Axes>"
            ],
            "image/png": "[encoded data removed]"
          },
          "metadata": {}
        }
      ]
    },
    {
      "cell_type": "markdown",
      "source": [
        "dogs appear to be zeroes and cats appear to be ones"
      ],
      "metadata": {
        "id": "4R_FovEXiaEg"
      }
    },
    {
      "cell_type": "markdown",
      "source": [
        "## Data Cleaning\n"
      ],
      "metadata": {
        "id": "Qv-tmJlyIBrL"
      }
    },
    {
      "cell_type": "markdown",
      "source": [
        "\n",
        "* Scale the values in X so that they fall between 0 and 1 by dividing by 255.\n",
        "\n"
      ],
      "metadata": {
        "id": "DrJ-2JwDXMYk"
      }
    },
    {
      "cell_type": "code",
      "source": [
        "# scale the values in x so that they fall between 0 and 1 by dividing by 255\n",
        "# quality assurance measure\n",
        "# size of an image might be contributing to a model's decision\n",
        "# standardized images help these\n",
        "# to avoid errors in your input layer\n",
        "\n",
        "x_train = x_train / 255\n",
        "x_test = x_test / 255"
      ],
      "metadata": {
        "id": "EzDPOBMLJPnI"
      },
      "execution_count": 18,
      "outputs": []
    },
    {
      "cell_type": "markdown",
      "source": [
        "## Exploratory Data Analysis\n"
      ],
      "metadata": {
        "id": "UDccpNdgIEHR"
      }
    },
    {
      "cell_type": "markdown",
      "source": [
        "\n",
        "* Look at the shape of X and y. Ensure that X is 4 dimensional.\n",
        "\n",
        "* Plot a few ( >5 ) of the images in X using plt.imshow().\n",
        "\n",
        "* Look at the response values in y for those images.\n",
        "\n",
        "* Hint: you may want to start with a random subset to get familiar with the process of building a NN.  Then go through the process again with the full set.\n",
        "\n"
      ],
      "metadata": {
        "id": "VRCwjqGZXLG6"
      }
    },
    {
      "cell_type": "code",
      "source": [],
      "metadata": {
        "id": "JP2pJKMBJQhk"
      },
      "execution_count": 18,
      "outputs": []
    },
    {
      "cell_type": "markdown",
      "source": [
        "## Data Processing\n"
      ],
      "metadata": {
        "id": "1swvVYT3IGoH"
      }
    },
    {
      "cell_type": "markdown",
      "source": [
        "\n",
        "* Split X and y into training and testing sets.\n",
        "\n",
        "*  Build a convolutional neural network with the following:\n",
        "  * Sequential layers\n",
        "  * At least two 2D convolutional layers using the 'relu' activation function and a (3,3) kernel size.\n",
        "  * A MaxPooling2D layer after each 2D convolutional layer that has a pool size of (2,2).\n",
        "  * A dense output layer using the 'sigmoid' activation function.\n",
        "  Note: you can play around with the number of layers and nodes to try to get better performance.\n",
        "\n",
        "* Compile your model. Use the 'adam' optimizer. Determine which loss function and metric is most appropriate for this problem.\n",
        "\n",
        "* Fit your model using the training set.\n",
        "\n",
        "* Evaluate your model using the testing set.\n",
        "\n",
        "* Plot the distribution of probabilities for the testing set.\n",
        "\n",
        "* Define a function that will read in a new image and convert it to a 4 dimensional array of pixels (ask the instructor for help with this). Hint: [numpy.reshape]( https://numpy.org/doc/stable/reference/generated/numpy.reshape.html )\n",
        "\n",
        "* Use the function defined above to read in the dog.jpg image that is saved in the AWS S3 bucket.\n",
        "\n",
        "* Use the neural network you created to predict whether the image is a dog or a cat.\n",
        "\n"
      ],
      "metadata": {
        "id": "-MRKZ22_XI90"
      }
    },
    {
      "cell_type": "code",
      "source": [],
      "metadata": {
        "id": "FU2fm8KtJRbW"
      },
      "execution_count": 18,
      "outputs": []
    },
    {
      "cell_type": "markdown",
      "source": [
        "## Communication of Results\n"
      ],
      "metadata": {
        "id": "tT_-Jy7ZIJ3t"
      }
    },
    {
      "cell_type": "markdown",
      "source": [
        "\n",
        "* Communicate the results of your analysis.\n",
        "\n"
      ],
      "metadata": {
        "id": "MzKXfsuvXX7T"
      }
    },
    {
      "cell_type": "markdown",
      "source": [
        "## **BONUS** (optional)\n"
      ],
      "metadata": {
        "id": "ztu8gpNSILmj"
      }
    },
    {
      "cell_type": "markdown",
      "source": [
        "\n",
        "* Upload an image of your (or your friend's or family's) dog or cat and use your model to predict whether the image is a dog or cat.\n",
        "* Hint: you'll probably need to convert the image from color to grayscale.  OpenCV, pillow, and other libraries are your friend."
      ],
      "metadata": {
        "id": "DjGDKT60XY-G"
      }
    },
    {
      "cell_type": "code",
      "source": [],
      "metadata": {
        "id": "zOMNJ9ZyHWTD"
      },
      "execution_count": 18,
      "outputs": []
    }
  ]
}